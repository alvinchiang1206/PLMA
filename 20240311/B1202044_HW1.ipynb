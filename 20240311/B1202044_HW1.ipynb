{
  "nbformat": 4,
  "nbformat_minor": 0,
  "metadata": {
    "colab": {
      "provenance": []
    },
    "kernelspec": {
      "name": "python3",
      "display_name": "Python 3"
    },
    "language_info": {
      "name": "python"
    }
  },
  "cells": [
    {
      "cell_type": "code",
      "execution_count": 1,
      "metadata": {
        "colab": {
          "base_uri": "https://localhost:8080/"
        },
        "id": "VQ8QIhCo-GIz",
        "outputId": "46e8009d-f892-4a80-f06a-528fc644e9eb"
      },
      "outputs": [
        {
          "output_type": "stream",
          "name": "stdout",
          "text": [
            "I'm a student\n"
          ]
        }
      ],
      "source": [
        "a = \"I'm a student\"\n",
        "print(a)"
      ]
    },
    {
      "cell_type": "code",
      "source": [
        "a = input('輸入A點X座標')\n",
        "a = float(a)\n",
        "b = input('輸入A點Y座標')\n",
        "b = float(b)\n",
        "c = input('輸入B點X座標')\n",
        "c = float(c)\n",
        "d = input('輸入B點Y座標')\n",
        "d = float(d)\n",
        "distance = (a-c)**2+(b-d)**2\n",
        "distance = float(distance)\n",
        "print('A B間距離=',distance**0.5)"
      ],
      "metadata": {
        "colab": {
          "base_uri": "https://localhost:8080/"
        },
        "id": "rvmJSFRc_aI_",
        "outputId": "9da58b09-22b1-48a1-c81b-beb42750b233"
      },
      "execution_count": 2,
      "outputs": [
        {
          "output_type": "stream",
          "name": "stdout",
          "text": [
            "輸入A點X座標2\n",
            "輸入A點Y座標3\n",
            "輸入B點X座標5\n",
            "輸入B點Y座標7\n",
            "A B間距離= 5.0\n"
          ]
        }
      ]
    },
    {
      "cell_type": "code",
      "source": [
        "w = input('輸入體重(kg)')\n",
        "h = input('輸入身高(cm)')\n",
        "w = float(w)\n",
        "h = float(h)\n",
        "h = h/100\n",
        "h*=h\n",
        "w /= (h)\n",
        "print('BMI為',w)"
      ],
      "metadata": {
        "colab": {
          "base_uri": "https://localhost:8080/"
        },
        "id": "1z1eC75mAAgA",
        "outputId": "99987729-64f7-46f4-9910-9e02c2b17cf3"
      },
      "execution_count": 6,
      "outputs": [
        {
          "output_type": "stream",
          "name": "stdout",
          "text": [
            "輸入體重(kg)73\n",
            "輸入身高(cm)178\n",
            "BMI為 23.04002019946976\n"
          ]
        }
      ]
    }
  ]
}