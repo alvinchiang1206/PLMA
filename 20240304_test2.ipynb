{
  "nbformat": 4,
  "nbformat_minor": 0,
  "metadata": {
    "colab": {
      "provenance": []
    },
    "kernelspec": {
      "name": "python3",
      "display_name": "Python 3"
    },
    "language_info": {
      "name": "python"
    }
  },
  "cells": [
    {
      "cell_type": "code",
      "execution_count": null,
      "metadata": {
        "colab": {
          "base_uri": "https://localhost:8080/"
        },
        "id": "cm-GAQ2QP63U",
        "outputId": "46425dae-9ce5-49cb-97cb-c3013c8f0511"
      },
      "outputs": [
        {
          "output_type": "execute_result",
          "data": {
            "text/plain": [
              "495"
            ]
          },
          "metadata": {},
          "execution_count": 3
        }
      ],
      "source": [
        "x = 2\n",
        "y = 1\n",
        "a = 2*x+y\n",
        "b = 100-y\n",
        "ans = a*b\n",
        "ans"
      ]
    },
    {
      "cell_type": "code",
      "source": [
        "y = 4\n",
        "a = 2*y+1\n",
        "ans = 100/a\n",
        "ans"
      ],
      "metadata": {
        "id": "vccQspZgTy7l",
        "outputId": "85570f53-e934-4c1f-b650-f7799b68f196",
        "colab": {
          "base_uri": "https://localhost:8080/"
        }
      },
      "execution_count": null,
      "outputs": [
        {
          "output_type": "execute_result",
          "data": {
            "text/plain": [
              "11.11111111111111"
            ]
          },
          "metadata": {},
          "execution_count": 4
        }
      ]
    }
  ]
}