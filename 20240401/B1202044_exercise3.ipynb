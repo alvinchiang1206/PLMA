{
  "nbformat": 4,
  "nbformat_minor": 0,
  "metadata": {
    "colab": {
      "provenance": []
    },
    "kernelspec": {
      "name": "python3",
      "display_name": "Python 3"
    },
    "language_info": {
      "name": "python"
    }
  },
  "cells": [
    {
      "cell_type": "code",
      "execution_count": 7,
      "metadata": {
        "colab": {
          "base_uri": "https://localhost:8080/"
        },
        "id": "fC_pqyB4aWPZ",
        "outputId": "c5b4e1eb-e60a-4fa5-f948-9d72fbf94a6d"
      },
      "outputs": [
        {
          "output_type": "stream",
          "name": "stdout",
          "text": [
            "88.33333333333333\n",
            "{'姓名': '賴宏瑋', '性別': '男', '學號': 'M1129020'}\n",
            "88.33333333333333\n",
            "{'姓名': '許珈綺', '性別': '女', '學號': 'M1229001'}\n"
          ]
        }
      ],
      "source": [
        "a = {'姓名':'賴宏瑋','性別':'男','作業分數':[95,100,90]}\n",
        "b = {'學號':'M1129020'}\n",
        "c = {**a, **b}\n",
        "d = a.copy()\n",
        "c['作業分數'][1] = 80\n",
        "d['姓名'] = '許珈綺'\n",
        "d['性別'] = '女'\n",
        "d['學號'] = 'M1229001'\n",
        "e = c.pop('作業分數')\n",
        "f = sum(e) / len(e)\n",
        "print(f)\n",
        "print(c)\n",
        "g = d.pop('作業分數')\n",
        "h = sum(g) / len(g)\n",
        "print(h)\n",
        "print(d)"
      ]
    },
    {
      "cell_type": "code",
      "source": [
        "a = [100,50,45,60,90,95,80,50]\n",
        "a.insert(0,88)\n",
        "a[2:5] = [70,50]\n",
        "a.remove(50)\n",
        "b = a.pop(0)\n",
        "c = a.pop(-1)\n",
        "d = b+c\n",
        "print(a)\n",
        "print(d)"
      ],
      "metadata": {
        "colab": {
          "base_uri": "https://localhost:8080/"
        },
        "id": "VEoJUkNJhZas",
        "outputId": "5ad9d275-ff39-4e77-f21c-c04a6073b989"
      },
      "execution_count": 14,
      "outputs": [
        {
          "output_type": "stream",
          "name": "stdout",
          "text": [
            "[100, 70, 90, 95, 80]\n",
            "138\n"
          ]
        }
      ]
    },
    {
      "cell_type": "code",
      "source": [
        "a = 347\n",
        "b = 3\n",
        "c = a//b\n",
        "d = a%b\n",
        "e = c**d\n",
        "print(e)"
      ],
      "metadata": {
        "colab": {
          "base_uri": "https://localhost:8080/"
        },
        "id": "Y0JPqpd5kKS5",
        "outputId": "131f214a-c19f-4d6d-d8ee-6263a43af89b"
      },
      "execution_count": 16,
      "outputs": [
        {
          "output_type": "stream",
          "name": "stdout",
          "text": [
            "13225\n"
          ]
        }
      ]
    }
  ]
}