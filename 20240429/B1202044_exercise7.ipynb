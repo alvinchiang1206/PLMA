{
  "nbformat": 4,
  "nbformat_minor": 0,
  "metadata": {
    "colab": {
      "provenance": []
    },
    "kernelspec": {
      "name": "python3",
      "display_name": "Python 3"
    },
    "language_info": {
      "name": "python"
    }
  },
  "cells": [
    {
      "cell_type": "code",
      "execution_count": 13,
      "metadata": {
        "colab": {
          "base_uri": "https://localhost:8080/"
        },
        "id": "PhLmdCqvpndU",
        "outputId": "7a6b09bb-8797-4147-a55c-8add65b3b61e"
      },
      "outputs": [
        {
          "output_type": "stream",
          "name": "stdout",
          "text": [
            "聖誕樹層數：10\n",
            "          *\n",
            "         ***\n",
            "        *****\n",
            "       *******\n",
            "      *********\n",
            "     ***********\n",
            "    *************\n",
            "   ***************\n",
            "  *****************\n",
            " *******************\n",
            "         ***\n",
            "         ***\n",
            "         ***\n",
            "         ***\n",
            "         ***\n"
          ]
        }
      ],
      "source": [
        "def height(x):\n",
        "  if x>=7:\n",
        "   for a in range(x):\n",
        "     print((\" \"*(x-a))+(\"*\"*(2*a+1)))\n",
        "   if a ==(x-1):\n",
        "     for b in range(5):\n",
        "       print((\" \"*(x-1))+\"*\"*3)\n",
        "  else:\n",
        "    print('輸入層數至少七層')\n",
        "height(int(input(\"聖誕樹層數：\")))"
      ]
    },
    {
      "cell_type": "code",
      "source": [
        "def BMI(h,w):\n",
        "  cal = w/((h/100)**2)\n",
        "  return cal\n",
        "try:\n",
        "  h = float(input('身高(公分)：'))\n",
        "  w = float(input('體重：'))\n",
        "  print(BMI(h,w))\n",
        "  if BMI(h,w)<18.5:\n",
        "    print('體位：過輕')\n",
        "  elif 18.5<= BMI(h,w) <24:\n",
        "    print('體位：適中')\n",
        "  elif 24<= BMI(h,w) <27:\n",
        "    print('體位：過重')\n",
        "  else:\n",
        "    print('體位：肥胖')\n",
        "except:\n",
        "  print('輸入內容錯誤')"
      ],
      "metadata": {
        "colab": {
          "base_uri": "https://localhost:8080/"
        },
        "id": "X3OKr1FGvuCe",
        "outputId": "f783c9a2-d3b2-47c9-c8fd-8a266959aae3"
      },
      "execution_count": 3,
      "outputs": [
        {
          "output_type": "stream",
          "name": "stdout",
          "text": [
            "身高(公分)：178\n",
            "體重：73\n",
            "23.04002019946976\n",
            "體位：適中\n"
          ]
        }
      ]
    }
  ]
}