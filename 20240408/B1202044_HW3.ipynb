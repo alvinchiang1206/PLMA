{
  "nbformat": 4,
  "nbformat_minor": 0,
  "metadata": {
    "colab": {
      "provenance": []
    },
    "kernelspec": {
      "name": "python3",
      "display_name": "Python 3"
    },
    "language_info": {
      "name": "python"
    }
  },
  "cells": [
    {
      "cell_type": "code",
      "execution_count": 17,
      "metadata": {
        "colab": {
          "base_uri": "https://localhost:8080/"
        },
        "id": "Ua8D0P6BqXFl",
        "outputId": "905682b0-4814-4f70-cc1f-441c8d7d0167"
      },
      "outputs": [
        {
          "output_type": "stream",
          "name": "stdout",
          "text": [
            "請輸入年分：2200\n",
            "平年\n"
          ]
        }
      ],
      "source": [
        "a = input('請輸入年分：')\n",
        "a = float(a)\n",
        "if a <= 1582:\n",
        "  if a%4 == 0:\n",
        "    print('閏年')\n",
        "elif a > 1582:\n",
        "  if a%4 == 0 and a%400 == 0:\n",
        "    print('閏年')\n",
        "  elif a%4 == 0 and a%100 == 0:\n",
        "    print('平年')\n",
        "  elif a%4 == 0:\n",
        "    print('閏年')\n",
        "else:\n",
        "  print('平年')"
      ]
    }
  ]
}