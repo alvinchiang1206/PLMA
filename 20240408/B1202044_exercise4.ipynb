{
  "nbformat": 4,
  "nbformat_minor": 0,
  "metadata": {
    "colab": {
      "provenance": []
    },
    "kernelspec": {
      "name": "python3",
      "display_name": "Python 3"
    },
    "language_info": {
      "name": "python"
    }
  },
  "cells": [
    {
      "cell_type": "code",
      "execution_count": 2,
      "metadata": {
        "colab": {
          "base_uri": "https://localhost:8080/"
        },
        "id": "mNweIEE4km9S",
        "outputId": "fad0fb6c-bffd-43e0-cede-0148bbe82940"
      },
      "outputs": [
        {
          "output_type": "stream",
          "name": "stdout",
          "text": [
            "輸入體重(kg)75\n",
            "輸入身高(cm)179\n",
            "BMI: 23.40750912892856\n",
            "體位：適中\n"
          ]
        }
      ],
      "source": [
        "w = input('輸入體重(kg)：')\n",
        "h = input('輸入身高(cm)：')\n",
        "w = float(w)\n",
        "h = float(h)\n",
        "h = h/100\n",
        "h*=h\n",
        "w /= (h)\n",
        "print('BMI:',w)\n",
        "if w < 18.5 :\n",
        "  print('體位：過輕')\n",
        "elif w >= 18.5 and w < 24 :\n",
        "  print('體位：適中')\n",
        "elif w >= 24 and w < 27 :\n",
        "  print('體位：過重')\n",
        "elif w >= 27 :\n",
        "  print('體位：肥胖')"
      ]
    },
    {
      "cell_type": "code",
      "source": [
        "a = input('請輸入第一個數字：')\n",
        "b = input('請輸入運算符號：')\n",
        "c = input('請輸入第二個數字：')\n",
        "a = float(a)\n",
        "c = float(c)\n",
        "d = a + c\n",
        "e = a - c\n",
        "f = a * c\n",
        "g = a / c\n",
        "if b == \"+\" :\n",
        "  print(d)\n",
        "elif b == \"-\" :\n",
        "  print(e)\n",
        "elif b == \"*\" :\n",
        "  print(f)\n",
        "elif b == \"/\" :\n",
        "  print(g)"
      ],
      "metadata": {
        "colab": {
          "base_uri": "https://localhost:8080/"
        },
        "id": "QXFyr20TnL46",
        "outputId": "d1f969e1-91e9-46db-8a80-c79e41a3cdb1"
      },
      "execution_count": 5,
      "outputs": [
        {
          "output_type": "stream",
          "name": "stdout",
          "text": [
            "請輸入第一個數字：50\n",
            "請輸入運算符號：*\n",
            "請輸入第二個數字：32\n",
            "1600.0\n"
          ]
        }
      ]
    }
  ]
}